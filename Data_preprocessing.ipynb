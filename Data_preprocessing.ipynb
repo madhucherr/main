{
  "nbformat": 4,
  "nbformat_minor": 0,
  "metadata": {
    "colab": {
      "provenance": [],
      "include_colab_link": true
    },
    "kernelspec": {
      "name": "python3",
      "display_name": "Python 3"
    },
    "language_info": {
      "name": "python"
    }
  },
  "cells": [
    {
      "cell_type": "markdown",
      "metadata": {
        "id": "view-in-github",
        "colab_type": "text"
      },
      "source": [
        "<a href=\"https://colab.research.google.com/github/madhucherr/main/blob/main/Data_preprocessing.ipynb\" target=\"_parent\"><img src=\"https://colab.research.google.com/assets/colab-badge.svg\" alt=\"Open In Colab\"/></a>"
      ]
    },
    {
      "cell_type": "markdown",
      "source": [
        "importing the libraies"
      ],
      "metadata": {
        "id": "O2K5yKKgYEIP"
      }
    },
    {
      "cell_type": "code",
      "source": [
        "import numpy as np\n",
        "import pandas as pd"
      ],
      "metadata": {
        "id": "hghj765LYHmF"
      },
      "execution_count": null,
      "outputs": []
    },
    {
      "cell_type": "markdown",
      "source": [
        "importing dataset"
      ],
      "metadata": {
        "id": "ohfyrF9tYeIu"
      }
    },
    {
      "cell_type": "code",
      "source": [
        "DA=pd.read_csv('Data.csv')\n",
        "x=DA.iloc[:,: -1].values\n",
        "y=DA.iloc[:,-1].values\n",
        "print(x)\n",
        "print()\n",
        "print(y)"
      ],
      "metadata": {
        "colab": {
          "base_uri": "https://localhost:8080/"
        },
        "id": "KubmpJ87YhwR",
        "outputId": "59a934e3-7c8a-4b0c-d0d7-e94144a1e50f"
      },
      "execution_count": null,
      "outputs": [
        {
          "output_type": "stream",
          "name": "stdout",
          "text": [
            "[['France' 44.0 72000.0]\n",
            " ['Spain' 27.0 48000.0]\n",
            " ['Germany' 30.0 54000.0]\n",
            " ['Spain' 38.0 61000.0]\n",
            " ['Germany' 40.0 nan]\n",
            " ['France' 35.0 58000.0]\n",
            " ['Spain' nan 52000.0]\n",
            " ['France' 48.0 79000.0]\n",
            " ['Germany' 50.0 83000.0]\n",
            " ['France' 37.0 67000.0]]\n",
            "\n",
            "['No' 'Yes' 'No' 'No' 'Yes' 'Yes' 'No' 'Yes' 'No' 'Yes']\n"
          ]
        }
      ]
    },
    {
      "cell_type": "markdown",
      "source": [
        "filling the missing values"
      ],
      "metadata": {
        "id": "I4FKT_KkY9L-"
      }
    },
    {
      "cell_type": "code",
      "source": [
        "from sklearn.impute import SimpleImputer\n",
        "imputer=SimpleImputer(missing_values=np.nan,strategy='mean')\n",
        "imputer.fit(x[:,1:3])\n",
        "x[:,1:3]=imputer.transform (x[:,1:3])\n",
        "print(x)\n"
      ],
      "metadata": {
        "colab": {
          "base_uri": "https://localhost:8080/"
        },
        "id": "ZhLwiObqZCOY",
        "outputId": "1aa7df8f-201c-4135-e8e6-c4bbdf821466"
      },
      "execution_count": null,
      "outputs": [
        {
          "output_type": "stream",
          "name": "stdout",
          "text": [
            "[['France' 44.0 72000.0]\n",
            " ['Spain' 27.0 48000.0]\n",
            " ['Germany' 30.0 54000.0]\n",
            " ['Spain' 38.0 61000.0]\n",
            " ['Germany' 40.0 63777.77777777778]\n",
            " ['France' 35.0 58000.0]\n",
            " ['Spain' 38.77777777777778 52000.0]\n",
            " ['France' 48.0 79000.0]\n",
            " ['Germany' 50.0 83000.0]\n",
            " ['France' 37.0 67000.0]]\n"
          ]
        }
      ]
    },
    {
      "cell_type": "markdown",
      "source": [
        "Encoding independent values"
      ],
      "metadata": {
        "id": "L64MCtfhbAeF"
      }
    },
    {
      "cell_type": "code",
      "source": [
        "from sklearn .compose import ColumnTransformer\n",
        "from sklearn .preprocessing import OneHotEncoder\n",
        "ct=ColumnTransformer(transformers=[('encoders',OneHotEncoder(),[0])],remainder='passthrough')\n",
        "x=np.array(ct.fit_transform(x))\n",
        "print(x)"
      ],
      "metadata": {
        "colab": {
          "base_uri": "https://localhost:8080/"
        },
        "id": "xahwStUXbpLE",
        "outputId": "e1dc50ed-5037-4f75-e329-445926616ebd"
      },
      "execution_count": null,
      "outputs": [
        {
          "output_type": "stream",
          "name": "stdout",
          "text": [
            "[[1.0 0.0 0.0 44.0 72000.0]\n",
            " [0.0 0.0 1.0 27.0 48000.0]\n",
            " [0.0 1.0 0.0 30.0 54000.0]\n",
            " [0.0 0.0 1.0 38.0 61000.0]\n",
            " [0.0 1.0 0.0 40.0 63777.77777777778]\n",
            " [1.0 0.0 0.0 35.0 58000.0]\n",
            " [0.0 0.0 1.0 38.77777777777778 52000.0]\n",
            " [1.0 0.0 0.0 48.0 79000.0]\n",
            " [0.0 1.0 0.0 50.0 83000.0]\n",
            " [1.0 0.0 0.0 37.0 67000.0]]\n"
          ]
        }
      ]
    },
    {
      "cell_type": "markdown",
      "source": [
        "encoding dependent variables"
      ],
      "metadata": {
        "id": "PbX4HZXHeg8d"
      }
    },
    {
      "cell_type": "code",
      "source": [
        "from sklearn .preprocessing import LabelEncoder\n",
        "le=LabelEncoder()\n",
        "y=le.fit_transform(y)\n",
        "print(y)"
      ],
      "metadata": {
        "colab": {
          "base_uri": "https://localhost:8080/"
        },
        "id": "dyka0450ekXd",
        "outputId": "dd436ba2-75ca-4db5-8c5b-2e9fd8fdf888"
      },
      "execution_count": null,
      "outputs": [
        {
          "output_type": "stream",
          "name": "stdout",
          "text": [
            "[0 1 0 0 1 1 0 1 0 1]\n"
          ]
        }
      ]
    },
    {
      "cell_type": "markdown",
      "source": [
        "splitting the data into test and train set"
      ],
      "metadata": {
        "id": "cnj6ThemfBCd"
      }
    },
    {
      "cell_type": "code",
      "source": [
        "from sklearn.model_selection import train_test_split\n",
        "xtrain,xtest,ytrain,ytest=train_test_split(x,y,test_size=0.2,random_state=1)\n"
      ],
      "metadata": {
        "id": "2ehmqLuTfGzm"
      },
      "execution_count": null,
      "outputs": []
    },
    {
      "cell_type": "markdown",
      "source": [
        "feature scaling "
      ],
      "metadata": {
        "id": "vjFvBLpvfjez"
      }
    },
    {
      "cell_type": "code",
      "source": [
        "from sklearn.preprocessing import StandardScaler\n",
        "sc = StandardScaler()\n",
        "xtrain[:,3:] = sc.fit_transform(xtrain[:,3:])\n",
        "xtest[:,3:] = sc.transform(xtest[:,3:])\n",
        "print(xtrain)\n",
        "print(xtest)"
      ],
      "metadata": {
        "colab": {
          "base_uri": "https://localhost:8080/"
        },
        "id": "Of5yYUvefl1g",
        "outputId": "7a49f189-18b8-4e33-be5e-f32d858a2637"
      },
      "execution_count": null,
      "outputs": [
        {
          "output_type": "stream",
          "name": "stdout",
          "text": [
            "[[-0.7745966692414834 -0.5773502691896258 1.2909944487358056\n",
            "  -0.19159184384578545 -1.0781259408412425]\n",
            " [-0.7745966692414834 1.7320508075688774 -0.7745966692414834\n",
            "  -0.014117293757057777 -0.07013167641635372]\n",
            " [1.2909944487358056 -0.5773502691896258 -0.7745966692414834\n",
            "  0.566708506533324 0.633562432710455]\n",
            " [-0.7745966692414834 -0.5773502691896258 1.2909944487358056\n",
            "  -0.30453019390224867 -0.30786617274297867]\n",
            " [-0.7745966692414834 -0.5773502691896258 1.2909944487358056\n",
            "  -1.9018011447007988 -1.420463615551582]\n",
            " [1.2909944487358056 -0.5773502691896258 -0.7745966692414834\n",
            "  1.1475343068237058 1.232653363453549]\n",
            " [-0.7745966692414834 1.7320508075688774 -0.7745966692414834\n",
            "  1.4379472069688968 1.5749910381638885]\n",
            " [1.2909944487358056 -0.5773502691896258 -0.7745966692414834\n",
            "  -0.7401495441200351 -0.5646194287757332]]\n",
            "[[-0.7745966692414834 1.7320508075688774 -0.7745966692414834\n",
            "  -1.4661817944830124 -0.9069571034860727]\n",
            " [1.2909944487358056 -0.5773502691896258 -0.7745966692414834\n",
            "  -0.44973664397484414 0.2056403393225306]]\n"
          ]
        }
      ]
    }
  ]
}