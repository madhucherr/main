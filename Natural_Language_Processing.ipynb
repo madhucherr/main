{
  "nbformat": 4,
  "nbformat_minor": 0,
  "metadata": {
    "colab": {
      "provenance": [],
      "include_colab_link": true
    },
    "kernelspec": {
      "name": "python3",
      "display_name": "Python 3"
    },
    "language_info": {
      "name": "python"
    }
  },
  "cells": [
    {
      "cell_type": "markdown",
      "metadata": {
        "id": "view-in-github",
        "colab_type": "text"
      },
      "source": [
        "<a href=\"https://colab.research.google.com/github/madhucherr/main/blob/main/Natural_Language_Processing.ipynb\" target=\"_parent\"><img src=\"https://colab.research.google.com/assets/colab-badge.svg\" alt=\"Open In Colab\"/></a>"
      ]
    },
    {
      "cell_type": "code",
      "execution_count": null,
      "metadata": {
        "colab": {
          "base_uri": "https://localhost:8080/"
        },
        "id": "YPY5pLzRdnTL",
        "outputId": "418398f1-9858-4be1-c444-ba50d5b86708"
      },
      "outputs": [
        {
          "output_type": "stream",
          "name": "stderr",
          "text": [
            "[nltk_data] Downloading package punkt to /root/nltk_data...\n",
            "[nltk_data]   Package punkt is already up-to-date!\n"
          ]
        }
      ],
      "source": [
        "import nltk\n",
        "nltk.download('punkt')\n",
        "paragraph=\"First of all, Mothers are highly responsible women. They certainly play a very important role in the upbringing of a child. Most noteworthy, Mothers play a huge role in determining a child’s attitude. Whether a child will be good or evil in the future depends upon the Mother. The moral values taught by Mother probably play a huge role. Individuals often remember their Mother’s values until old age. Hence, the Mother is responsible for the well-being of society. The future of society in a large way is the result of a Mother’s teaching.\""
      ]
    },
    {
      "cell_type": "markdown",
      "source": [
        "converting paragraph into sentence"
      ],
      "metadata": {
        "id": "32dZ4SJWfntO"
      }
    },
    {
      "cell_type": "code",
      "source": [
        "sentences=nltk.sent_tokenize(paragraph)"
      ],
      "metadata": {
        "id": "WqmCCpjMeHRo"
      },
      "execution_count": null,
      "outputs": []
    },
    {
      "cell_type": "markdown",
      "source": [
        "converting sentences to words"
      ],
      "metadata": {
        "id": "9qdHHoaNfskZ"
      }
    },
    {
      "cell_type": "code",
      "source": [
        "token=nltk.word_tokenize(paragraph)\n",
        "print(sentences)\n",
        "print(token)"
      ],
      "metadata": {
        "colab": {
          "base_uri": "https://localhost:8080/"
        },
        "id": "yZrfSdZqfyBV",
        "outputId": "08153a2d-e3aa-4f4c-9663-6324004b9dce"
      },
      "execution_count": null,
      "outputs": [
        {
          "output_type": "stream",
          "name": "stdout",
          "text": [
            "['First of all, Mothers are highly responsible women.', 'They certainly play a very important role in the upbringing of a child.', 'Most noteworthy, Mothers play a huge role in determining a child’s attitude.', 'Whether a child will be good or evil in the future depends upon the Mother.', 'The moral values taught by Mother probably play a huge role.', 'Individuals often remember their Mother’s values until old age.', 'Hence, the Mother is responsible for the well-being of society.', 'The future of society in a large way is the result of a Mother’s teaching.']\n",
            "['First', 'of', 'all', ',', 'Mothers', 'are', 'highly', 'responsible', 'women', '.', 'They', 'certainly', 'play', 'a', 'very', 'important', 'role', 'in', 'the', 'upbringing', 'of', 'a', 'child', '.', 'Most', 'noteworthy', ',', 'Mothers', 'play', 'a', 'huge', 'role', 'in', 'determining', 'a', 'child', '’', 's', 'attitude', '.', 'Whether', 'a', 'child', 'will', 'be', 'good', 'or', 'evil', 'in', 'the', 'future', 'depends', 'upon', 'the', 'Mother', '.', 'The', 'moral', 'values', 'taught', 'by', 'Mother', 'probably', 'play', 'a', 'huge', 'role', '.', 'Individuals', 'often', 'remember', 'their', 'Mother', '’', 's', 'values', 'until', 'old', 'age', '.', 'Hence', ',', 'the', 'Mother', 'is', 'responsible', 'for', 'the', 'well-being', 'of', 'society', '.', 'The', 'future', 'of', 'society', 'in', 'a', 'large', 'way', 'is', 'the', 'result', 'of', 'a', 'Mother', '’', 's', 'teaching', '.']\n"
          ]
        }
      ]
    }
  ]
}