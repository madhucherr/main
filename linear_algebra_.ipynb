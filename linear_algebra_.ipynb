{
  "nbformat": 4,
  "nbformat_minor": 0,
  "metadata": {
    "colab": {
      "provenance": [],
      "include_colab_link": true
    },
    "kernelspec": {
      "name": "python3",
      "display_name": "Python 3"
    },
    "language_info": {
      "name": "python"
    }
  },
  "cells": [
    {
      "cell_type": "markdown",
      "metadata": {
        "id": "view-in-github",
        "colab_type": "text"
      },
      "source": [
        "<a href=\"https://colab.research.google.com/github/madhucherr/main/blob/main/linear_algebra_.ipynb\" target=\"_parent\"><img src=\"https://colab.research.google.com/assets/colab-badge.svg\" alt=\"Open In Colab\"/></a>"
      ]
    },
    {
      "cell_type": "markdown",
      "source": [
        "importing and creating martrix"
      ],
      "metadata": {
        "id": "xrX4ZXoktGyI"
      }
    },
    {
      "cell_type": "code",
      "source": [
        "import numpy as np\n",
        "import numpy.linalg as la\n",
        "\n",
        "a=np.array([[1,2,3],\n",
        "            [3,4,5],\n",
        "            [6,7,8]])\n",
        "b=np.array([[2,3,4],\n",
        "            [5,7,6],\n",
        "            [5,9,7]])\n",
        "print(\"A =\",a)\n",
        "print(\"B =\",b)"
      ],
      "metadata": {
        "colab": {
          "base_uri": "https://localhost:8080/"
        },
        "id": "qPHeUxUktNsy",
        "outputId": "41c72e99-1306-4d25-ed2c-886434253263"
      },
      "execution_count": null,
      "outputs": [
        {
          "output_type": "stream",
          "name": "stdout",
          "text": [
            "A = [[1 2 3]\n",
            " [3 4 5]\n",
            " [6 7 8]]\n",
            "B = [[2 3 4]\n",
            " [5 7 6]\n",
            " [5 9 7]]\n"
          ]
        }
      ]
    },
    {
      "cell_type": "markdown",
      "source": [
        "matrix operations"
      ],
      "metadata": {
        "id": "Y-G5t1iGt8oO"
      }
    },
    {
      "cell_type": "code",
      "source": [
        "c=a+b\n",
        "d=a-b\n",
        "print(\"A+B =\",c)\n",
        "print(\"A-B =\",d)"
      ],
      "metadata": {
        "colab": {
          "base_uri": "https://localhost:8080/"
        },
        "id": "V4kaOzHEuDuP",
        "outputId": "a563f0c3-b601-486a-8564-af093fad26e8"
      },
      "execution_count": null,
      "outputs": [
        {
          "output_type": "stream",
          "name": "stdout",
          "text": [
            "A+B = [[ 3  5  7]\n",
            " [ 8 11 11]\n",
            " [11 16 15]]\n",
            "A-B = [[-1 -1 -1]\n",
            " [-2 -3 -1]\n",
            " [ 1 -2  1]]\n"
          ]
        }
      ]
    },
    {
      "cell_type": "markdown",
      "source": [
        "multiplication"
      ],
      "metadata": {
        "id": "9Pebr2SOvJXy"
      }
    },
    {
      "cell_type": "code",
      "source": [
        "c=a.dot(b)\n",
        "print(c)\n",
        "print()\n",
        "c1=np.dot(a,b)\n",
        "print(c1)\n",
        "print()\n",
        "d=np.matmul(a,b)\n",
        "print(d)"
      ],
      "metadata": {
        "id": "nInqebzPvVg7",
        "colab": {
          "base_uri": "https://localhost:8080/"
        },
        "outputId": "0af9a687-0987-4d0b-c64c-e1c1b0b36161"
      },
      "execution_count": null,
      "outputs": [
        {
          "output_type": "stream",
          "name": "stdout",
          "text": [
            "[[ 27  44  37]\n",
            " [ 51  82  71]\n",
            " [ 87 139 122]]\n",
            "\n",
            "[[ 27  44  37]\n",
            " [ 51  82  71]\n",
            " [ 87 139 122]]\n",
            "\n",
            "[[ 27  44  37]\n",
            " [ 51  82  71]\n",
            " [ 87 139 122]]\n"
          ]
        }
      ]
    },
    {
      "cell_type": "markdown",
      "source": [
        "transpose"
      ],
      "metadata": {
        "id": "gGgB-Vp_u863"
      }
    },
    {
      "cell_type": "code",
      "source": [
        "a1=np.array([[1,2,3],\n",
        "            [3,4,5],\n",
        "            [6,7,8]])\n",
        "print(a1)\n",
        "print()\n",
        "tran=np.transpose(a1)\n",
        "print(tran)"
      ],
      "metadata": {
        "colab": {
          "base_uri": "https://localhost:8080/"
        },
        "id": "HfO48wU3MDAp",
        "outputId": "4d761a8c-bbb0-42cf-8b6d-5c2fd9571ebf"
      },
      "execution_count": null,
      "outputs": [
        {
          "output_type": "stream",
          "name": "stdout",
          "text": [
            "[[1 2 3]\n",
            " [3 4 5]\n",
            " [6 7 8]]\n",
            "\n",
            "[[1 3 6]\n",
            " [2 4 7]\n",
            " [3 5 8]]\n"
          ]
        }
      ]
    },
    {
      "cell_type": "markdown",
      "source": [
        "determinate"
      ],
      "metadata": {
        "id": "C-TzypdTMaFr"
      }
    },
    {
      "cell_type": "code",
      "source": [
        "a2=np.array([[1,2,3],\n",
        "            [3,4,5],\n",
        "            [6,7,8]])\n",
        "d=la.det(a2)\n",
        "print(d)\n",
        "b=np.array([[2,3,4],\n",
        "            [5,7,6],\n",
        "            [5,9,7]])\n",
        "d1=la.det(b)\n",
        "print(d1)"
      ],
      "metadata": {
        "colab": {
          "base_uri": "https://localhost:8080/"
        },
        "id": "u-tbpbSfMn_D",
        "outputId": "221536cd-481e-4e17-d059-bb7a6f05642c"
      },
      "execution_count": null,
      "outputs": [
        {
          "output_type": "stream",
          "name": "stdout",
          "text": [
            "0.0\n",
            "14.999999999999993\n"
          ]
        }
      ]
    },
    {
      "cell_type": "markdown",
      "source": [
        "inerverse"
      ],
      "metadata": {
        "id": "G-vfnNyENvUO"
      }
    },
    {
      "cell_type": "code",
      "source": [
        "a3=np.array([[1,2],\n",
        "            [3,4]])\n",
        "g =la.inv(a3)\n",
        "print(g)\n",
        "b=np.array([[2,3,4],\n",
        "            [5,7,6],\n",
        "            [5,9,7]])\n",
        "d1=la.inv(b)\n",
        "print(d1)"
      ],
      "metadata": {
        "colab": {
          "base_uri": "https://localhost:8080/"
        },
        "id": "xiYSZnLxOCB5",
        "outputId": "711c14c6-6db4-43b4-d594-1335df17ca1b"
      },
      "execution_count": null,
      "outputs": [
        {
          "output_type": "stream",
          "name": "stdout",
          "text": [
            "[[-2.   1. ]\n",
            " [ 1.5 -0.5]]\n",
            "[[-0.33333333  1.         -0.66666667]\n",
            " [-0.33333333 -0.4         0.53333333]\n",
            " [ 0.66666667 -0.2        -0.06666667]]\n"
          ]
        }
      ]
    },
    {
      "cell_type": "markdown",
      "source": [
        "eigen"
      ],
      "metadata": {
        "id": "cZsLwtkoPda3"
      }
    },
    {
      "cell_type": "code",
      "source": [
        "a=np.array([[1,2,3],\n",
        "            [3,4,5],\n",
        "            [6,7,8]])\n",
        "ae=la.eig(a)\n",
        "ae, v=la.eig(a)\n",
        "print(ae)\n",
        "print()\n",
        "print(v)"
      ],
      "metadata": {
        "colab": {
          "base_uri": "https://localhost:8080/"
        },
        "id": "GAQ-eISXPfNr",
        "outputId": "2b4519ac-97b0-4cbe-887b-551f8ed5e470"
      },
      "execution_count": null,
      "outputs": [
        {
          "output_type": "stream",
          "name": "stdout",
          "text": [
            "[ 1.40663730e+01 -1.06637298e+00  3.43927949e-17]\n",
            "\n",
            "[[ 0.26564776  0.74442863  0.40824829]\n",
            " [ 0.49120712  0.19070122 -0.81649658]\n",
            " [ 0.82954616 -0.63988988  0.40824829]]\n"
          ]
        }
      ]
    },
    {
      "cell_type": "markdown",
      "source": [
        "Solving linear equation"
      ],
      "metadata": {
        "id": "NNg6J6h6mqCW"
      }
    },
    {
      "cell_type": "code",
      "source": [
        "A=np.array([[1,2],\n",
        "            [3,4]])\n",
        "b=np.array([[5],\n",
        "            [6]])\n",
        "\n",
        "Ainv=la.inv(A)\n",
        "x=Ainv.dot(b)\n",
        "print(x)"
      ],
      "metadata": {
        "colab": {
          "base_uri": "https://localhost:8080/"
        },
        "id": "UL4lS-XZm0Ue",
        "outputId": "eb05e2e2-0159-4a8d-bafe-428897e5452c"
      },
      "execution_count": null,
      "outputs": [
        {
          "output_type": "stream",
          "name": "stdout",
          "text": [
            "[[-4. ]\n",
            " [ 4.5]]\n"
          ]
        }
      ]
    }
  ]
}